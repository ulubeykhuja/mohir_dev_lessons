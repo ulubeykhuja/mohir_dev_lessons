{
  "nbformat": 4,
  "nbformat_minor": 0,
  "metadata": {
    "colab": {
      "provenance": [],
      "authorship_tag": "ABX9TyNc0+gwlRbMR3WBw+F2hH+J",
      "include_colab_link": true
    },
    "kernelspec": {
      "name": "python3",
      "display_name": "Python 3"
    },
    "language_info": {
      "name": "python"
    }
  },
  "cells": [
    {
      "cell_type": "markdown",
      "metadata": {
        "id": "view-in-github",
        "colab_type": "text"
      },
      "source": [
        "<a href=\"https://colab.research.google.com/github/ulubeykhuja/mohir_dev_lessons/blob/main/ML_boshlanishi.ipynb\" target=\"_parent\"><img src=\"https://colab.research.google.com/assets/colab-badge.svg\" alt=\"Open In Colab\"/></a>"
      ]
    },
    {
      "cell_type": "markdown",
      "source": [
        "# **MLga tayyorgarlik. Pipeline. Sonlar**\n",
        "\n",
        "Pipeline = konveyr"
      ],
      "metadata": {
        "id": "CogMIqKUjPP9"
      }
    },
    {
      "cell_type": "code",
      "execution_count": 1,
      "metadata": {
        "id": "vZD11xtHjJQd"
      },
      "outputs": [],
      "source": [
        "import pandas as pd\n",
        "import numpy as np\n",
        "import sklearn\n",
        "\n",
        "# Onlayn datasetni ochish\n",
        "URL = \"https://raw.githubusercontent.com/ageron/handson-ml2/refs/heads/master/datasets/housing/housing.csv\"\n",
        "df = pd.read_csv(URL)\n",
        "df.head()\n",
        "\n",
        "# trein va test ga bo'lish\n",
        "from sklearn.model_selection import train_test_split\n",
        "train_set, test_set = train_test_split(df, test_size = 0.2, random_state = 42)\n",
        "\n",
        "# train uchun bashorat qilinadigan qator (median_house_value)ni tashlab yuborish\n",
        "housing = train_set.drop(\"median_house_value\", axis = 1)\n",
        "# bashorat qilinadigan qator (median_house_value)ni alohida saqlash\n",
        "housing_labels = train_set[\"median_house_value\"].copy()\n",
        "\n",
        "# son bo'magan qatorni tashlash\n",
        "housing_num = housing.drop(\"ocean_proximity\", axis=1)"
      ]
    },
    {
      "cell_type": "code",
      "source": [
        "# Transformer yasash\n",
        "from sklearn.base import BaseEstimator, TransformerMixin\n",
        "# bizga kerak ustunlar indekslari\n",
        "rooms_ix, bedrooms_ix, population_ix, households_ix = 3, 4, 5, 6\n",
        "\n",
        "class CombinedAttributesAdder(BaseEstimator, TransformerMixin):\n",
        "    def __init__(self, add_bedrooms_per_room = True):\n",
        "        self.add_bedrooms_per_room = add_bedrooms_per_room\n",
        "    def fit(self, X, y=None):\n",
        "        return self\n",
        "    def transform(self, X):\n",
        "        rooms_per_household = X[:, rooms_ix] / X[:, households_ix]\n",
        "        population_per_household = X[:, population_ix] / X[:, households_ix]\n",
        "        if self.add_bedrooms_per_room:\n",
        "            bedrooms_per_room = X[:, bedrooms_ix] / X[:, rooms_ix]\n",
        "            return np.c_[X, rooms_per_household, population_per_household, bedrooms_per_room]\n",
        "        else:\n",
        "            return np.c_[X, rooms_per_household, population_per_household]"
      ],
      "metadata": {
        "id": "22evMQgRlADd"
      },
      "execution_count": 2,
      "outputs": []
    },
    {
      "cell_type": "code",
      "source": [
        "# Konveyr yasash uchun library\n",
        "from sklearn.pipeline import Pipeline\n",
        "# malumotlar bir nechta jarayonlardan otdi\n",
        "# kerakli lib larni chaqiraiz\n",
        "from sklearn.impute import SimpleImputer # medianlar uchun class\n",
        "from sklearn.preprocessing import OneHotEncoder, StandardScaler #\n",
        "\n",
        "# Sonli ustunlar uchun alohida konveyr yasash\n",
        "num_pipeline = Pipeline([\n",
        "    (\"imputer\", SimpleImputer(strategy=\"median\")),\n",
        "    (\"attribs_adder\", CombinedAttributesAdder()),\n",
        "    (\"std_scaler\", StandardScaler())\n",
        "])\n",
        "\n",
        "# chaqirish\n",
        "num_pipeline.fit_transform(housing_num)"
      ],
      "metadata": {
        "colab": {
          "base_uri": "https://localhost:8080/"
        },
        "id": "NEGwj6JRpiM7",
        "outputId": "a3457522-28a5-4e20-cffe-250dbf4f56ba"
      },
      "execution_count": 3,
      "outputs": [
        {
          "output_type": "execute_result",
          "data": {
            "text/plain": [
              "array([[ 1.27258656, -1.3728112 ,  0.34849025, ..., -0.17491646,\n",
              "         0.05137609, -0.2117846 ],\n",
              "       [ 0.70916212, -0.87669601,  1.61811813, ..., -0.40283542,\n",
              "        -0.11736222,  0.34218528],\n",
              "       [-0.44760309, -0.46014647, -1.95271028, ...,  0.08821601,\n",
              "        -0.03227969, -0.66165785],\n",
              "       ...,\n",
              "       [ 0.59946887, -0.75500738,  0.58654547, ..., -0.60675918,\n",
              "         0.02030568,  0.99951387],\n",
              "       [-1.18553953,  0.90651045, -1.07984112, ...,  0.40217517,\n",
              "         0.00707608, -0.79086209],\n",
              "       [-1.41489815,  0.99543676,  1.85617335, ..., -0.85144571,\n",
              "        -0.08535429,  1.69520292]])"
            ]
          },
          "metadata": {},
          "execution_count": 3
        }
      ]
    },
    {
      "cell_type": "code",
      "source": [
        "#housing_onehot = pd.get_dummies(housing['ocean_proximity'])\n",
        "# housing_onehot"
      ],
      "metadata": {
        "id": "do3ulF2Pt9ub"
      },
      "execution_count": null,
      "outputs": []
    },
    {
      "cell_type": "code",
      "source": [
        "# Matnli konveyr yasash\n",
        "from sklearn.compose import ColumnTransformer\n",
        "num_attribs = list(housing_num)\n",
        "cat_attribs = ['ocean_proximity']\n",
        "\n",
        "#Katta konveyr\n",
        "full_pipeline = ColumnTransformer([\n",
        "    (\"num\", num_pipeline, num_attribs), # num_pipeline ni full konveyrga solish\n",
        "    # 3qismga bo'lindi, ustunlar ajratildi\n",
        "    (\"cat\", OneHotEncoder(), cat_attribs)\n",
        "])"
      ],
      "metadata": {
        "id": "X6mLum6etB7a"
      },
      "execution_count": 4,
      "outputs": []
    },
    {
      "cell_type": "code",
      "source": [
        "list(housing_num)"
      ],
      "metadata": {
        "colab": {
          "base_uri": "https://localhost:8080/"
        },
        "id": "0bXK6VOkurEh",
        "outputId": "405d194a-5bc5-48a3-df10-f5567ae82e16"
      },
      "execution_count": 5,
      "outputs": [
        {
          "output_type": "execute_result",
          "data": {
            "text/plain": [
              "['longitude',\n",
              " 'latitude',\n",
              " 'housing_median_age',\n",
              " 'total_rooms',\n",
              " 'total_bedrooms',\n",
              " 'population',\n",
              " 'households',\n",
              " 'median_income']"
            ]
          },
          "metadata": {},
          "execution_count": 5
        }
      ]
    },
    {
      "cell_type": "code",
      "source": [
        "full_pipeline.fit_transform(housing)"
      ],
      "metadata": {
        "colab": {
          "base_uri": "https://localhost:8080/"
        },
        "id": "Sm7udc-qv8YP",
        "outputId": "5249ec7a-5a2b-4a01-b8ee-ff0e2aead7ec"
      },
      "execution_count": 6,
      "outputs": [
        {
          "output_type": "execute_result",
          "data": {
            "text/plain": [
              "array([[ 1.27258656, -1.3728112 ,  0.34849025, ...,  0.        ,\n",
              "         0.        ,  1.        ],\n",
              "       [ 0.70916212, -0.87669601,  1.61811813, ...,  0.        ,\n",
              "         0.        ,  1.        ],\n",
              "       [-0.44760309, -0.46014647, -1.95271028, ...,  0.        ,\n",
              "         0.        ,  1.        ],\n",
              "       ...,\n",
              "       [ 0.59946887, -0.75500738,  0.58654547, ...,  0.        ,\n",
              "         0.        ,  0.        ],\n",
              "       [-1.18553953,  0.90651045, -1.07984112, ...,  0.        ,\n",
              "         0.        ,  0.        ],\n",
              "       [-1.41489815,  0.99543676,  1.85617335, ...,  0.        ,\n",
              "         1.        ,  0.        ]])"
            ]
          },
          "metadata": {},
          "execution_count": 6
        }
      ]
    },
    {
      "cell_type": "code",
      "source": [
        "housing_prepared = full_pipeline.fit_transform(housing)"
      ],
      "metadata": {
        "id": "MKs6JjRHv3ZS"
      },
      "execution_count": 7,
      "outputs": []
    },
    {
      "cell_type": "markdown",
      "source": [
        "havola : https://colab.research.google.com/github/MohirdevTexnik/MachineLearning_Noutbook/blob/main/05-ml-03-Pipeline.ipynb"
      ],
      "metadata": {
        "id": "o0eRQu-Tw3YO"
      }
    },
    {
      "cell_type": "code",
      "source": [],
      "metadata": {
        "id": "eSh0x0SSw1f-"
      },
      "execution_count": 8,
      "outputs": []
    },
    {
      "cell_type": "code",
      "source": [],
      "metadata": {
        "id": "J0qIhMEfg-ms"
      },
      "execution_count": null,
      "outputs": []
    },
    {
      "cell_type": "code",
      "source": [],
      "metadata": {
        "id": "80Jevtv5g8u1"
      },
      "execution_count": null,
      "outputs": []
    }
  ]
}